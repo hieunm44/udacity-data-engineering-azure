{
 "cells": [
  {
   "metadata": {},
   "cell_type": "markdown",
   "source": "# Azure Pipelines in Production",
   "id": "a17f866d3a60d572"
  },
  {
   "metadata": {},
   "cell_type": "markdown",
   "source": [
    "## 1. Parameterizing Pipelines\n",
    "1. Trong Data Factory, ở cạnh Data flow  \"dataflow aggregate sales\", ấn vào dấu $\\vdots$ -> **Clone** -> Đặt tên Data flow mới là \"dataflow parameters\".\n",
    "\n",
    "2. Vào tab **Parameters** -> **New** -> Đặt Name là `df_param_custid`, Type là `integer`, Default value là `30070`.\n",
    "\n",
    "   <img src=\"images/azure1.png\" width=1000>\n",
    "\n",
    "3. Trong **Filter**, chỉnh sửa expression dùng parameter đã tạo: `CustomerID!=$df_param_custid` -> **Save and finish**\n",
    "\n",
    "   <img src=\"images/azure2.png\" width=1000>\n",
    "\n",
    "3. Tạo một pipeline mới từ Data flow này. \\\n",
    "   Vào tab Settings -> Chọn Run on là `IRWestUS` đã tạo ở C5L2, chọn Staging như dưới\n",
    "   <img src=\"images/azure3.png\" width=700>\n",
    "\n",
    "4. Vào tab **Parameters** của Pipeline -> **New** -> Điền `pl_param_custid, Int, 30070`\n",
    "\n",
    "   <img src=\"images/azure4.png\" width=800>\n",
    "\n",
    "4. Ấn vào **Data flow** trong pipline -> **Parameter** ->  **Value** -> **Pipeline expression** -> Chọn pipeline param vừa tạo -> **OK** -> **Publish all** -> **Publish** \\\n",
    "   Giờ khi trigger pipline này sẽ yc điền param."
   ],
   "id": "76ffc8c526486713"
  },
  {
   "metadata": {},
   "cell_type": "markdown",
   "source": [
    "## 2. Create ADF Objects with Azure CLI\n",
    "1. Ở Homepage Azure Portal, mở CLI\n",
    "2. Chạy command:\n",
    "   ```bash\n",
    "   az datafactory create --resource-group <name> --factory-name <name>\n",
    "   ```"
   ],
   "id": "cdc9b26b4ce15b84"
  },
  {
   "metadata": {},
   "cell_type": "markdown",
   "source": [
    "## 3. Automated Pipelines with DevOps\n",
    "1. Tìm service **Azure DevOps** -> **My Azure DevOps Organization** -> **Create new organization** \\\n",
    "   Vào **Azure DevOps**, tạo một project.\n",
    "\n",
    "   <img src=\"images/azure5.png\" width=1500>\n",
    "\n",
    "2. Vào **Data Factory** -> **Manage** -> **Git Configuration** -> **Configure** -> Chọn **Repository type** là **Azure DevOps Git** -> **Continue**\n",
    "\n",
    "   <img src=\"images/azure6.png\" width=1500>\n",
    "\n",
    "3. Chọn **Azure DevOps organization** đã tạo -> Set như dưới -> **Apply** -> **Save**\n",
    "\n",
    "   <img src=\"images/azure7.png\" width=800>\n",
    "\n",
    "   Chú ý góc trên bên trái, giờ ta có thêm option **Azure DevOps GIT** -> Chọn option này.\n",
    "\n",
    "   <img src=\"images/azure8.png\" width=300>\n",
    "\n",
    "4. Kiểm tra tất cả resources đã tạo trong tab **Author** -> Nếu ổn rồi thì **Publish** \\\n",
    "   Vào **Azure DevOps** -> **Repos** để kiểm tra."
   ],
   "id": "824eeed6411a52f0"
  }
 ],
 "metadata": {
  "kernelspec": {
   "display_name": "Python 3",
   "language": "python",
   "name": "python3"
  },
  "language_info": {
   "codemirror_mode": {
    "name": "ipython",
    "version": 2
   },
   "file_extension": ".py",
   "mimetype": "text/x-python",
   "name": "python",
   "nbconvert_exporter": "python",
   "pygments_lexer": "ipython2",
   "version": "2.7.6"
  }
 },
 "nbformat": 4,
 "nbformat_minor": 5
}
