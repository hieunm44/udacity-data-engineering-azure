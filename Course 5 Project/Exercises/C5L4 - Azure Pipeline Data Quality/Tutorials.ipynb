{
 "cells": [
  {
   "metadata": {},
   "cell_type": "markdown",
   "source": "# Azure Pipeline Data Quality",
   "id": "792c7041bce37d2e"
  },
  {
   "metadata": {},
   "cell_type": "markdown",
   "source": [
    "## Data Governance with Purview\n",
    "1. Vào **Data Factory** -> **Manage** -> **Microsoft Purview** -> **Connect to a Purview account**. Điền thông tin rồi kết nối. \\\n",
    "   Nếu chưa có thì tìm service **Microsoft Purview accounts** -> **Create** để tạo account\n",
    "\n",
    "2. Trigger một pipeline. Vào **Purview** -> **Browse asset** -> Vào collection để xem kĩ\n",
    "\n",
    "   <img src=\"images/azure1.png\" width=1500>"
   ],
   "id": "5606c101ecb8ff75"
  }
 ],
 "metadata": {
  "kernelspec": {
   "display_name": "Python 3",
   "language": "python",
   "name": "python3"
  },
  "language_info": {
   "codemirror_mode": {
    "name": "ipython",
    "version": 2
   },
   "file_extension": ".py",
   "mimetype": "text/x-python",
   "name": "python",
   "nbconvert_exporter": "python",
   "pygments_lexer": "ipython2",
   "version": "2.7.6"
  }
 },
 "nbformat": 4,
 "nbformat_minor": 5
}
