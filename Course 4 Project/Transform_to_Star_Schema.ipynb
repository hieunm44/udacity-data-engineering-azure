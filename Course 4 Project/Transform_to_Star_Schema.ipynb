{
 "cells": [
  {
   "cell_type": "code",
   "execution_count": 0,
   "metadata": {
    "application/vnd.databricks.v1+cell": {
     "cellMetadata": {
      "byteLimit": 2048000,
      "rowLimit": 10000
     },
     "inputWidgets": {},
     "nuid": "61a8a187-88ee-43cf-90d3-885995d49896",
     "showTitle": false,
     "title": ""
    }
   },
   "outputs": [],
   "source": [
    "from pyspark.sql.functions import *\n",
    "from pyspark.sql import functions as f\n",
    "from pyspark.sql.types import TimestampType\n",
    "from pyspark.sql.types import StringType"
   ]
  },
  {
   "cell_type": "markdown",
   "metadata": {
    "application/vnd.databricks.v1+cell": {
     "cellMetadata": {},
     "inputWidgets": {},
     "nuid": "d1b4abd5-9e8b-4f8b-ba83-c889763d3190",
     "showTitle": false,
     "title": ""
    }
   },
   "source": [
    "# Fact Payments"
   ]
  },
  {
   "cell_type": "code",
   "execution_count": 0,
   "metadata": {
    "application/vnd.databricks.v1+cell": {
     "cellMetadata": {
      "byteLimit": 2048000,
      "rowLimit": 10000
     },
     "inputWidgets": {},
     "nuid": "4cb48c0f-a9e0-4207-8457-45a4358a554f",
     "showTitle": false,
     "title": ""
    }
   },
   "outputs": [],
   "source": [
    "df_staging_payments = spark.table(\"staging_payments\")"
   ]
  },
  {
   "cell_type": "code",
   "execution_count": 0,
   "metadata": {
    "application/vnd.databricks.v1+cell": {
     "cellMetadata": {
      "byteLimit": 2048000,
      "rowLimit": 10000
     },
     "inputWidgets": {},
     "nuid": "1d539e56-751f-47cb-b3f5-f224e67ad75d",
     "showTitle": false,
     "title": ""
    }
   },
   "outputs": [
    {
     "output_type": "display_data",
     "data": {
      "text/html": [
       "<style scoped>\n",
       "  .table-result-container {\n",
       "    max-height: 300px;\n",
       "    overflow: auto;\n",
       "  }\n",
       "  table, th, td {\n",
       "    border: 1px solid black;\n",
       "    border-collapse: collapse;\n",
       "  }\n",
       "  th, td {\n",
       "    padding: 5px;\n",
       "  }\n",
       "  th {\n",
       "    text-align: left;\n",
       "  }\n",
       "</style><div class='table-result-container'><table class='table-result'><thead style='background-color: white'><tr><th>payment_id</th><th>date</th><th>amount</th><th>rider_id</th></tr></thead><tbody><tr><td>1064462</td><td>2020-06-01</td><td>9.0</td><td>42106</td></tr><tr><td>1064463</td><td>2020-07-01</td><td>9.0</td><td>42106</td></tr><tr><td>1064464</td><td>2020-08-01</td><td>9.0</td><td>42106</td></tr><tr><td>1064465</td><td>2020-09-01</td><td>9.0</td><td>42106</td></tr><tr><td>1064466</td><td>2020-10-01</td><td>9.0</td><td>42106</td></tr></tbody></table></div>"
      ]
     },
     "metadata": {
      "application/vnd.databricks.v1+output": {
       "addedWidgets": {},
       "aggData": [],
       "aggError": "",
       "aggOverflow": false,
       "aggSchema": [],
       "aggSeriesLimitReached": false,
       "aggType": "",
       "arguments": {},
       "columnCustomDisplayInfos": {},
       "data": [
        [
         "1064462",
         "2020-06-01",
         "9.0",
         "42106"
        ],
        [
         "1064463",
         "2020-07-01",
         "9.0",
         "42106"
        ],
        [
         "1064464",
         "2020-08-01",
         "9.0",
         "42106"
        ],
        [
         "1064465",
         "2020-09-01",
         "9.0",
         "42106"
        ],
        [
         "1064466",
         "2020-10-01",
         "9.0",
         "42106"
        ]
       ],
       "datasetInfos": [],
       "dbfsResultPath": null,
       "isJsonSchema": true,
       "metadata": {},
       "overflow": false,
       "plotOptions": {
        "customPlotOptions": {},
        "displayType": "table",
        "pivotAggregation": null,
        "pivotColumns": null,
        "xColumns": null,
        "yColumns": null
       },
       "removedWidgets": [],
       "schema": [
        {
         "metadata": "{}",
         "name": "payment_id",
         "type": "\"string\""
        },
        {
         "metadata": "{}",
         "name": "date",
         "type": "\"string\""
        },
        {
         "metadata": "{}",
         "name": "amount",
         "type": "\"string\""
        },
        {
         "metadata": "{}",
         "name": "rider_id",
         "type": "\"string\""
        }
       ],
       "type": "table"
      }
     },
     "output_type": "display_data"
    }
   ],
   "source": [
    "display(df_staging_payments.limit(5))"
   ]
  },
  {
   "cell_type": "code",
   "execution_count": 0,
   "metadata": {
    "application/vnd.databricks.v1+cell": {
     "cellMetadata": {
      "byteLimit": 2048000,
      "rowLimit": 10000
     },
     "inputWidgets": {},
     "nuid": "c2c56987-4c44-4212-8983-3fcf8e78085f",
     "showTitle": false,
     "title": ""
    }
   },
   "outputs": [],
   "source": [
    "spark.sql(\"DROP TABLE IF EXISTS fact_payments\")\n",
    "\n",
    "df_staging_payments.dropDuplicates([\"payment_id\"]).write.format(\"delta\").mode(\"overwrite\").saveAsTable(\"fact_payments\")"
   ]
  },
  {
   "cell_type": "code",
   "execution_count": 0,
   "metadata": {
    "application/vnd.databricks.v1+cell": {
     "cellMetadata": {
      "byteLimit": 2048000,
      "rowLimit": 10000
     },
     "inputWidgets": {},
     "nuid": "b448c092-bcfd-4d07-86f3-1fda63364add",
     "showTitle": false,
     "title": ""
    }
   },
   "outputs": [
    {
     "output_type": "display_data",
     "data": {
      "text/html": [
       "<style scoped>\n",
       "  .table-result-container {\n",
       "    max-height: 300px;\n",
       "    overflow: auto;\n",
       "  }\n",
       "  table, th, td {\n",
       "    border: 1px solid black;\n",
       "    border-collapse: collapse;\n",
       "  }\n",
       "  th, td {\n",
       "    padding: 5px;\n",
       "  }\n",
       "  th {\n",
       "    text-align: left;\n",
       "  }\n",
       "</style><div class='table-result-container'><table class='table-result'><thead style='background-color: white'><tr><th>payment_id</th><th>date</th><th>amount</th><th>rider_id</th></tr></thead><tbody><tr><td>819</td><td>2021-08-01</td><td>20.9</td><td>1034</td></tr><tr><td>822</td><td>2021-11-01</td><td>14.76</td><td>1034</td></tr><tr><td>927</td><td>2019-12-01</td><td>9.0</td><td>1038</td></tr><tr><td>982</td><td>2017-02-01</td><td>9.0</td><td>1040</td></tr><tr><td>1312</td><td>2017-11-01</td><td>9.0</td><td>1048</td></tr></tbody></table></div>"
      ]
     },
     "metadata": {
      "application/vnd.databricks.v1+output": {
       "addedWidgets": {},
       "aggData": [],
       "aggError": "",
       "aggOverflow": false,
       "aggSchema": [],
       "aggSeriesLimitReached": false,
       "aggType": "",
       "arguments": {},
       "columnCustomDisplayInfos": {},
       "data": [
        [
         "819",
         "2021-08-01",
         "20.9",
         "1034"
        ],
        [
         "822",
         "2021-11-01",
         "14.76",
         "1034"
        ],
        [
         "927",
         "2019-12-01",
         "9.0",
         "1038"
        ],
        [
         "982",
         "2017-02-01",
         "9.0",
         "1040"
        ],
        [
         "1312",
         "2017-11-01",
         "9.0",
         "1048"
        ]
       ],
       "datasetInfos": [],
       "dbfsResultPath": null,
       "isJsonSchema": true,
       "metadata": {},
       "overflow": false,
       "plotOptions": {
        "customPlotOptions": {},
        "displayType": "table",
        "pivotAggregation": null,
        "pivotColumns": null,
        "xColumns": null,
        "yColumns": null
       },
       "removedWidgets": [],
       "schema": [
        {
         "metadata": "{}",
         "name": "payment_id",
         "type": "\"string\""
        },
        {
         "metadata": "{}",
         "name": "date",
         "type": "\"string\""
        },
        {
         "metadata": "{}",
         "name": "amount",
         "type": "\"string\""
        },
        {
         "metadata": "{}",
         "name": "rider_id",
         "type": "\"string\""
        }
       ],
       "type": "table"
      }
     },
     "output_type": "display_data"
    }
   ],
   "source": [
    "fact_payments = spark.sql(\"SELECT * FROM fact_payments\")\n",
    "\n",
    "display(fact_payments.limit(5))"
   ]
  },
  {
   "cell_type": "markdown",
   "metadata": {
    "application/vnd.databricks.v1+cell": {
     "cellMetadata": {
      "byteLimit": 2048000,
      "rowLimit": 10000
     },
     "inputWidgets": {},
     "nuid": "bb7b889e-2767-417d-96e2-6a66803c1160",
     "showTitle": false,
     "title": ""
    }
   },
   "source": [
    "# Dim Riders"
   ]
  },
  {
   "cell_type": "code",
   "execution_count": 0,
   "metadata": {
    "application/vnd.databricks.v1+cell": {
     "cellMetadata": {
      "byteLimit": 2048000,
      "rowLimit": 10000
     },
     "inputWidgets": {},
     "nuid": "f89e260d-545c-4d20-a222-b1c303cfb1c1",
     "showTitle": false,
     "title": ""
    }
   },
   "outputs": [],
   "source": [
    "df_staging_riders = spark.table(\"staging_riders\")"
   ]
  },
  {
   "cell_type": "code",
   "execution_count": 0,
   "metadata": {
    "application/vnd.databricks.v1+cell": {
     "cellMetadata": {
      "byteLimit": 2048000,
      "rowLimit": 10000
     },
     "inputWidgets": {},
     "nuid": "61e60243-7761-407e-80c1-d6576d410d2e",
     "showTitle": false,
     "title": ""
    }
   },
   "outputs": [
    {
     "output_type": "display_data",
     "data": {
      "text/html": [
       "<style scoped>\n",
       "  .table-result-container {\n",
       "    max-height: 300px;\n",
       "    overflow: auto;\n",
       "  }\n",
       "  table, th, td {\n",
       "    border: 1px solid black;\n",
       "    border-collapse: collapse;\n",
       "  }\n",
       "  th, td {\n",
       "    padding: 5px;\n",
       "  }\n",
       "  th {\n",
       "    text-align: left;\n",
       "  }\n",
       "</style><div class='table-result-container'><table class='table-result'><thead style='background-color: white'><tr><th>rider_id</th><th>first_name</th><th>last_name</th><th>address</th><th>birthday</th><th>account_start_date</th><th>account_end_date</th><th>is_member</th></tr></thead><tbody><tr><td>57257</td><td>Mark</td><td>Mcfarland</td><td>9928 Hunter Ranch</td><td>1982-02-01</td><td>2020-12-05</td><td>null</td><td>false</td></tr><tr><td>57258</td><td>Mark</td><td>Davis</td><td>20036 Barrett Summit Apt. 714</td><td>1963-07-28</td><td>2017-07-12</td><td>null</td><td>true</td></tr><tr><td>57259</td><td>Bryan</td><td>Manning</td><td>089 Sarah Square</td><td>1984-11-05</td><td>2018-08-10</td><td>null</td><td>true</td></tr><tr><td>57260</td><td>Michele</td><td>Rowe</td><td>3157 Nicole Ferry Apt. 826</td><td>1997-09-21</td><td>2016-06-03</td><td>null</td><td>true</td></tr><tr><td>57261</td><td>John</td><td>Mckenzie</td><td>312 Jessica Wells</td><td>2002-10-13</td><td>2016-02-01</td><td>2018-07-01</td><td>true</td></tr></tbody></table></div>"
      ]
     },
     "metadata": {
      "application/vnd.databricks.v1+output": {
       "addedWidgets": {},
       "aggData": [],
       "aggError": "",
       "aggOverflow": false,
       "aggSchema": [],
       "aggSeriesLimitReached": false,
       "aggType": "",
       "arguments": {},
       "columnCustomDisplayInfos": {},
       "data": [
        [
         57257,
         "Mark",
         "Mcfarland",
         "9928 Hunter Ranch",
         "1982-02-01",
         "2020-12-05",
         null,
         false
        ],
        [
         57258,
         "Mark",
         "Davis",
         "20036 Barrett Summit Apt. 714",
         "1963-07-28",
         "2017-07-12",
         null,
         true
        ],
        [
         57259,
         "Bryan",
         "Manning",
         "089 Sarah Square",
         "1984-11-05",
         "2018-08-10",
         null,
         true
        ],
        [
         57260,
         "Michele",
         "Rowe",
         "3157 Nicole Ferry Apt. 826",
         "1997-09-21",
         "2016-06-03",
         null,
         true
        ],
        [
         57261,
         "John",
         "Mckenzie",
         "312 Jessica Wells",
         "2002-10-13",
         "2016-02-01",
         "2018-07-01",
         true
        ]
       ],
       "datasetInfos": [],
       "dbfsResultPath": null,
       "isJsonSchema": true,
       "metadata": {},
       "overflow": false,
       "plotOptions": {
        "customPlotOptions": {},
        "displayType": "table",
        "pivotAggregation": null,
        "pivotColumns": null,
        "xColumns": null,
        "yColumns": null
       },
       "removedWidgets": [],
       "schema": [
        {
         "metadata": "{}",
         "name": "rider_id",
         "type": "\"integer\""
        },
        {
         "metadata": "{}",
         "name": "first_name",
         "type": "\"string\""
        },
        {
         "metadata": "{}",
         "name": "last_name",
         "type": "\"string\""
        },
        {
         "metadata": "{}",
         "name": "address",
         "type": "\"string\""
        },
        {
         "metadata": "{\"__detected_date_formats\":\"yyyy-M-d\"}",
         "name": "birthday",
         "type": "\"date\""
        },
        {
         "metadata": "{\"__detected_date_formats\":\"yyyy-M-d\"}",
         "name": "account_start_date",
         "type": "\"date\""
        },
        {
         "metadata": "{\"__detected_date_formats\":\"yyyy-M-d\"}",
         "name": "account_end_date",
         "type": "\"date\""
        },
        {
         "metadata": "{}",
         "name": "is_member",
         "type": "\"boolean\""
        }
       ],
       "type": "table"
      }
     },
     "output_type": "display_data"
    }
   ],
   "source": [
    "display(df_staging_riders.limit(5))"
   ]
  },
  {
   "cell_type": "code",
   "execution_count": 0,
   "metadata": {
    "application/vnd.databricks.v1+cell": {
     "cellMetadata": {
      "byteLimit": 2048000,
      "rowLimit": 10000
     },
     "inputWidgets": {},
     "nuid": "831f19c0-fb8e-4c63-81d4-ebf57ba4a068",
     "showTitle": false,
     "title": ""
    }
   },
   "outputs": [],
   "source": [
    "spark.sql(\"DROP TABLE IF EXISTS dim_riders\")\n",
    "\n",
    "df_staging_riders.dropDuplicates([\"rider_id\"]).write.format(\"delta\").mode(\"overwrite\").saveAsTable(\"dim_riders\")"
   ]
  },
  {
   "cell_type": "code",
   "execution_count": 0,
   "metadata": {
    "application/vnd.databricks.v1+cell": {
     "cellMetadata": {
      "byteLimit": 2048000,
      "rowLimit": 10000
     },
     "inputWidgets": {},
     "nuid": "697843ed-a23f-4a85-b5e0-69163c314761",
     "showTitle": false,
     "title": ""
    }
   },
   "outputs": [
    {
     "output_type": "display_data",
     "data": {
      "text/html": [
       "<style scoped>\n",
       "  .table-result-container {\n",
       "    max-height: 300px;\n",
       "    overflow: auto;\n",
       "  }\n",
       "  table, th, td {\n",
       "    border: 1px solid black;\n",
       "    border-collapse: collapse;\n",
       "  }\n",
       "  th, td {\n",
       "    padding: 5px;\n",
       "  }\n",
       "  th {\n",
       "    text-align: left;\n",
       "  }\n",
       "</style><div class='table-result-container'><table class='table-result'><thead style='background-color: white'><tr><th>rider_id</th><th>first_name</th><th>last_name</th><th>address</th><th>birthday</th><th>account_start_date</th><th>account_end_date</th><th>is_member</th></tr></thead><tbody><tr><td>1144</td><td>Michael</td><td>Chaney</td><td>7751 Sandra Dale</td><td>1980-09-02</td><td>2021-10-01</td><td>null</td><td>true</td></tr><tr><td>1444</td><td>Monica</td><td>Banks</td><td>6753 Rhonda Prairie</td><td>1984-10-17</td><td>2021-07-30</td><td>null</td><td>false</td></tr><tr><td>1461</td><td>Bill</td><td>Craig</td><td>078 Richards Shoal</td><td>2000-10-27</td><td>2019-02-05</td><td>null</td><td>true</td></tr><tr><td>1994</td><td>Jonathan</td><td>Cain</td><td>85710 Scott Island</td><td>1994-03-23</td><td>2016-03-16</td><td>null</td><td>true</td></tr><tr><td>2026</td><td>Cheryl</td><td>Rodriguez</td><td>0434 Sarah Highway Suite 180</td><td>1997-03-04</td><td>2018-08-07</td><td>null</td><td>false</td></tr></tbody></table></div>"
      ]
     },
     "metadata": {
      "application/vnd.databricks.v1+output": {
       "addedWidgets": {},
       "aggData": [],
       "aggError": "",
       "aggOverflow": false,
       "aggSchema": [],
       "aggSeriesLimitReached": false,
       "aggType": "",
       "arguments": {},
       "columnCustomDisplayInfos": {},
       "data": [
        [
         1144,
         "Michael",
         "Chaney",
         "7751 Sandra Dale",
         "1980-09-02",
         "2021-10-01",
         null,
         true
        ],
        [
         1444,
         "Monica",
         "Banks",
         "6753 Rhonda Prairie",
         "1984-10-17",
         "2021-07-30",
         null,
         false
        ],
        [
         1461,
         "Bill",
         "Craig",
         "078 Richards Shoal",
         "2000-10-27",
         "2019-02-05",
         null,
         true
        ],
        [
         1994,
         "Jonathan",
         "Cain",
         "85710 Scott Island",
         "1994-03-23",
         "2016-03-16",
         null,
         true
        ],
        [
         2026,
         "Cheryl",
         "Rodriguez",
         "0434 Sarah Highway Suite 180",
         "1997-03-04",
         "2018-08-07",
         null,
         false
        ]
       ],
       "datasetInfos": [],
       "dbfsResultPath": null,
       "isJsonSchema": true,
       "metadata": {},
       "overflow": false,
       "plotOptions": {
        "customPlotOptions": {},
        "displayType": "table",
        "pivotAggregation": null,
        "pivotColumns": null,
        "xColumns": null,
        "yColumns": null
       },
       "removedWidgets": [],
       "schema": [
        {
         "metadata": "{}",
         "name": "rider_id",
         "type": "\"integer\""
        },
        {
         "metadata": "{}",
         "name": "first_name",
         "type": "\"string\""
        },
        {
         "metadata": "{}",
         "name": "last_name",
         "type": "\"string\""
        },
        {
         "metadata": "{}",
         "name": "address",
         "type": "\"string\""
        },
        {
         "metadata": "{\"__detected_date_formats\":\"yyyy-M-d\"}",
         "name": "birthday",
         "type": "\"date\""
        },
        {
         "metadata": "{\"__detected_date_formats\":\"yyyy-M-d\"}",
         "name": "account_start_date",
         "type": "\"date\""
        },
        {
         "metadata": "{\"__detected_date_formats\":\"yyyy-M-d\"}",
         "name": "account_end_date",
         "type": "\"date\""
        },
        {
         "metadata": "{}",
         "name": "is_member",
         "type": "\"boolean\""
        }
       ],
       "type": "table"
      }
     },
     "output_type": "display_data"
    }
   ],
   "source": [
    "dim_riders = spark.sql(\"SELECT * FROM dim_riders\")\n",
    "\n",
    "display(dim_riders.limit(5))"
   ]
  },
  {
   "cell_type": "markdown",
   "metadata": {
    "application/vnd.databricks.v1+cell": {
     "cellMetadata": {},
     "inputWidgets": {},
     "nuid": "d8b4752d-f5df-4fef-bb7a-97ab5339a66a",
     "showTitle": false,
     "title": ""
    }
   },
   "source": [
    "\n",
    "# Dim Stations"
   ]
  },
  {
   "cell_type": "code",
   "execution_count": 0,
   "metadata": {
    "application/vnd.databricks.v1+cell": {
     "cellMetadata": {
      "byteLimit": 2048000,
      "rowLimit": 10000
     },
     "inputWidgets": {},
     "nuid": "0d0786e1-b82f-4c45-8f74-e2aaf3aa9d49",
     "showTitle": false,
     "title": ""
    }
   },
   "outputs": [],
   "source": [
    "df_staging_stations = spark.table(\"staging_stations\")"
   ]
  },
  {
   "cell_type": "code",
   "execution_count": 0,
   "metadata": {
    "application/vnd.databricks.v1+cell": {
     "cellMetadata": {
      "byteLimit": 2048000,
      "rowLimit": 10000
     },
     "inputWidgets": {},
     "nuid": "f0999ee2-e083-4249-8908-02668345a25f",
     "showTitle": false,
     "title": ""
    }
   },
   "outputs": [
    {
     "output_type": "display_data",
     "data": {
      "text/html": [
       "<style scoped>\n",
       "  .table-result-container {\n",
       "    max-height: 300px;\n",
       "    overflow: auto;\n",
       "  }\n",
       "  table, th, td {\n",
       "    border: 1px solid black;\n",
       "    border-collapse: collapse;\n",
       "  }\n",
       "  th, td {\n",
       "    padding: 5px;\n",
       "  }\n",
       "  th {\n",
       "    text-align: left;\n",
       "  }\n",
       "</style><div class='table-result-container'><table class='table-result'><thead style='background-color: white'><tr><th>station_id</th><th>name</th><th>latitude</th><th>longitude</th></tr></thead><tbody><tr><td>525</td><td>Glenwood Ave & Touhy Ave</td><td>42.012701</td><td>-87.66605799999999</td></tr><tr><td>KA1503000012</td><td>Clark St & Lake St</td><td>41.88579466666667</td><td>-87.63110066666668</td></tr><tr><td>637</td><td>Wood St & Chicago Ave</td><td>41.895634</td><td>-87.672069</td></tr><tr><td>13216</td><td>State St & 33rd St</td><td>41.8347335</td><td>-87.6258275</td></tr><tr><td>18003</td><td>Fairbanks St & Superior St</td><td>41.89580766666667</td><td>-87.62025316666669</td></tr></tbody></table></div>"
      ]
     },
     "metadata": {
      "application/vnd.databricks.v1+output": {
       "addedWidgets": {},
       "aggData": [],
       "aggError": "",
       "aggOverflow": false,
       "aggSchema": [],
       "aggSeriesLimitReached": false,
       "aggType": "",
       "arguments": {},
       "columnCustomDisplayInfos": {},
       "data": [
        [
         "525",
         "Glenwood Ave & Touhy Ave",
         42.012701,
         -87.66605799999999
        ],
        [
         "KA1503000012",
         "Clark St & Lake St",
         41.88579466666667,
         -87.63110066666668
        ],
        [
         "637",
         "Wood St & Chicago Ave",
         41.895634,
         -87.672069
        ],
        [
         "13216",
         "State St & 33rd St",
         41.8347335,
         -87.6258275
        ],
        [
         "18003",
         "Fairbanks St & Superior St",
         41.89580766666667,
         -87.62025316666669
        ]
       ],
       "datasetInfos": [],
       "dbfsResultPath": null,
       "isJsonSchema": true,
       "metadata": {},
       "overflow": false,
       "plotOptions": {
        "customPlotOptions": {},
        "displayType": "table",
        "pivotAggregation": null,
        "pivotColumns": null,
        "xColumns": null,
        "yColumns": null
       },
       "removedWidgets": [],
       "schema": [
        {
         "metadata": "{}",
         "name": "station_id",
         "type": "\"string\""
        },
        {
         "metadata": "{}",
         "name": "name",
         "type": "\"string\""
        },
        {
         "metadata": "{}",
         "name": "latitude",
         "type": "\"double\""
        },
        {
         "metadata": "{}",
         "name": "longitude",
         "type": "\"double\""
        }
       ],
       "type": "table"
      }
     },
     "output_type": "display_data"
    }
   ],
   "source": [
    "display(df_staging_stations.limit(5))"
   ]
  },
  {
   "cell_type": "code",
   "execution_count": 0,
   "metadata": {
    "application/vnd.databricks.v1+cell": {
     "cellMetadata": {
      "byteLimit": 2048000,
      "rowLimit": 10000
     },
     "inputWidgets": {},
     "nuid": "ca0c1ab0-5c50-4164-bb62-89a7b30229a3",
     "showTitle": false,
     "title": ""
    }
   },
   "outputs": [],
   "source": [
    "spark.sql(\"DROP TABLE IF EXISTS dim_stations\")\n",
    "\n",
    "df_staging_stations.dropDuplicates([\"station_id\"]).write.format(\"delta\").mode(\"overwrite\").saveAsTable(\"dim_stations\")"
   ]
  },
  {
   "cell_type": "code",
   "execution_count": 0,
   "metadata": {
    "application/vnd.databricks.v1+cell": {
     "cellMetadata": {
      "byteLimit": 2048000,
      "rowLimit": 10000
     },
     "inputWidgets": {},
     "nuid": "f8fe15b6-d415-4d25-aaf5-aa0ca98ac817",
     "showTitle": false,
     "title": ""
    }
   },
   "outputs": [
    {
     "output_type": "display_data",
     "data": {
      "text/html": [
       "<style scoped>\n",
       "  .table-result-container {\n",
       "    max-height: 300px;\n",
       "    overflow: auto;\n",
       "  }\n",
       "  table, th, td {\n",
       "    border: 1px solid black;\n",
       "    border-collapse: collapse;\n",
       "  }\n",
       "  th, td {\n",
       "    padding: 5px;\n",
       "  }\n",
       "  th {\n",
       "    text-align: left;\n",
       "  }\n",
       "</style><div class='table-result-container'><table class='table-result'><thead style='background-color: white'><tr><th>station_id</th><th>name</th><th>latitude</th><th>longitude</th></tr></thead><tbody><tr><td>13192</td><td>Halsted St & Dickens Ave</td><td>41.919936</td><td>-87.64883</td></tr><tr><td>KA1504000162</td><td>Clark St & Lunt Ave</td><td>42.009074</td><td>-87.67419</td></tr><tr><td>15634</td><td>Western Ave & Roscoe St</td><td>41.943093</td><td>-87.6873335</td></tr><tr><td>15539</td><td>Desplaines St & Jackson Blvd</td><td>41.878161166666665</td><td>-87.64428766666668</td></tr><tr><td>TA1305000022</td><td>Orleans St & Merchandise Mart Plaza</td><td>41.888243</td><td>-87.63639</td></tr></tbody></table></div>"
      ]
     },
     "metadata": {
      "application/vnd.databricks.v1+output": {
       "addedWidgets": {},
       "aggData": [],
       "aggError": "",
       "aggOverflow": false,
       "aggSchema": [],
       "aggSeriesLimitReached": false,
       "aggType": "",
       "arguments": {},
       "columnCustomDisplayInfos": {},
       "data": [
        [
         "13192",
         "Halsted St & Dickens Ave",
         41.919936,
         -87.64883
        ],
        [
         "KA1504000162",
         "Clark St & Lunt Ave",
         42.009074,
         -87.67419
        ],
        [
         "15634",
         "Western Ave & Roscoe St",
         41.943093,
         -87.6873335
        ],
        [
         "15539",
         "Desplaines St & Jackson Blvd",
         41.878161166666665,
         -87.64428766666668
        ],
        [
         "TA1305000022",
         "Orleans St & Merchandise Mart Plaza",
         41.888243,
         -87.63639
        ]
       ],
       "datasetInfos": [],
       "dbfsResultPath": null,
       "isJsonSchema": true,
       "metadata": {},
       "overflow": false,
       "plotOptions": {
        "customPlotOptions": {},
        "displayType": "table",
        "pivotAggregation": null,
        "pivotColumns": null,
        "xColumns": null,
        "yColumns": null
       },
       "removedWidgets": [],
       "schema": [
        {
         "metadata": "{}",
         "name": "station_id",
         "type": "\"string\""
        },
        {
         "metadata": "{}",
         "name": "name",
         "type": "\"string\""
        },
        {
         "metadata": "{}",
         "name": "latitude",
         "type": "\"double\""
        },
        {
         "metadata": "{}",
         "name": "longitude",
         "type": "\"double\""
        }
       ],
       "type": "table"
      }
     },
     "output_type": "display_data"
    }
   ],
   "source": [
    "dim_stations = spark.sql(\"SELECT * FROM dim_stations\")\n",
    "\n",
    "display(dim_stations.limit(5))"
   ]
  },
  {
   "cell_type": "markdown",
   "metadata": {
    "application/vnd.databricks.v1+cell": {
     "cellMetadata": {},
     "inputWidgets": {},
     "nuid": "dbb740b6-2033-4ad2-aaf7-77e005229745",
     "showTitle": false,
     "title": ""
    }
   },
   "source": [
    "\n",
    "# Fact Trips"
   ]
  },
  {
   "cell_type": "code",
   "execution_count": 0,
   "metadata": {
    "application/vnd.databricks.v1+cell": {
     "cellMetadata": {
      "byteLimit": 2048000,
      "rowLimit": 10000
     },
     "inputWidgets": {},
     "nuid": "1f5aec5b-be1d-4d76-bbfb-4578aedbed2b",
     "showTitle": false,
     "title": ""
    }
   },
   "outputs": [],
   "source": [
    "df_staging_trips = spark.table(\"staging_trips\")"
   ]
  },
  {
   "cell_type": "code",
   "execution_count": 0,
   "metadata": {
    "application/vnd.databricks.v1+cell": {
     "cellMetadata": {
      "byteLimit": 2048000,
      "rowLimit": 10000
     },
     "inputWidgets": {},
     "nuid": "c4be66ad-c8e1-46b0-987e-a6d6b41460fa",
     "showTitle": false,
     "title": ""
    }
   },
   "outputs": [
    {
     "output_type": "display_data",
     "data": {
      "text/html": [
       "<style scoped>\n",
       "  .table-result-container {\n",
       "    max-height: 300px;\n",
       "    overflow: auto;\n",
       "  }\n",
       "  table, th, td {\n",
       "    border: 1px solid black;\n",
       "    border-collapse: collapse;\n",
       "  }\n",
       "  th, td {\n",
       "    padding: 5px;\n",
       "  }\n",
       "  th {\n",
       "    text-align: left;\n",
       "  }\n",
       "</style><div class='table-result-container'><table class='table-result'><thead style='background-color: white'><tr><th>trip_id</th><th>rideable_type</th><th>start_at</th><th>ended_at</th><th>start_station_id</th><th>end_station_id</th><th>rider_id</th></tr></thead><tbody><tr><td>222BB8E5059252D7</td><td>classic_bike</td><td>2021-06-13T09:48:47Z</td><td>2021-06-13T10:07:23Z</td><td>KA1503000064</td><td>13021</td><td>34062</td></tr><tr><td>1826E16CB5486018</td><td>classic_bike</td><td>2021-06-21T22:59:13Z</td><td>2021-06-21T23:04:29Z</td><td>TA1306000010</td><td>13021</td><td>5342</td></tr><tr><td>3D9B6A0A5330B04D</td><td>classic_bike</td><td>2021-06-18T16:06:42Z</td><td>2021-06-18T16:12:02Z</td><td>TA1305000030</td><td>13021</td><td>3714</td></tr><tr><td>07E82F5E9C9E490F</td><td>classic_bike</td><td>2021-06-17T16:46:23Z</td><td>2021-06-17T17:02:45Z</td><td>TA1305000034</td><td>13021</td><td>18793</td></tr><tr><td>A8E94BAECBF0C2DD</td><td>docked_bike</td><td>2021-06-13T17:36:29Z</td><td>2021-06-13T18:30:39Z</td><td>TA1308000009</td><td>TA1308000009</td><td>43342</td></tr></tbody></table></div>"
      ]
     },
     "metadata": {
      "application/vnd.databricks.v1+output": {
       "addedWidgets": {},
       "aggData": [],
       "aggError": "",
       "aggOverflow": false,
       "aggSchema": [],
       "aggSeriesLimitReached": false,
       "aggType": "",
       "arguments": {},
       "columnCustomDisplayInfos": {},
       "data": [
        [
         "222BB8E5059252D7",
         "classic_bike",
         "2021-06-13T09:48:47Z",
         "2021-06-13T10:07:23Z",
         "KA1503000064",
         "13021",
         34062
        ],
        [
         "1826E16CB5486018",
         "classic_bike",
         "2021-06-21T22:59:13Z",
         "2021-06-21T23:04:29Z",
         "TA1306000010",
         "13021",
         5342
        ],
        [
         "3D9B6A0A5330B04D",
         "classic_bike",
         "2021-06-18T16:06:42Z",
         "2021-06-18T16:12:02Z",
         "TA1305000030",
         "13021",
         3714
        ],
        [
         "07E82F5E9C9E490F",
         "classic_bike",
         "2021-06-17T16:46:23Z",
         "2021-06-17T17:02:45Z",
         "TA1305000034",
         "13021",
         18793
        ],
        [
         "A8E94BAECBF0C2DD",
         "docked_bike",
         "2021-06-13T17:36:29Z",
         "2021-06-13T18:30:39Z",
         "TA1308000009",
         "TA1308000009",
         43342
        ]
       ],
       "datasetInfos": [],
       "dbfsResultPath": null,
       "isJsonSchema": true,
       "metadata": {},
       "overflow": false,
       "plotOptions": {
        "customPlotOptions": {},
        "displayType": "table",
        "pivotAggregation": null,
        "pivotColumns": null,
        "xColumns": null,
        "yColumns": null
       },
       "removedWidgets": [],
       "schema": [
        {
         "metadata": "{}",
         "name": "trip_id",
         "type": "\"string\""
        },
        {
         "metadata": "{}",
         "name": "rideable_type",
         "type": "\"string\""
        },
        {
         "metadata": "{}",
         "name": "start_at",
         "type": "\"timestamp\""
        },
        {
         "metadata": "{}",
         "name": "ended_at",
         "type": "\"timestamp\""
        },
        {
         "metadata": "{}",
         "name": "start_station_id",
         "type": "\"string\""
        },
        {
         "metadata": "{}",
         "name": "end_station_id",
         "type": "\"string\""
        },
        {
         "metadata": "{}",
         "name": "rider_id",
         "type": "\"integer\""
        }
       ],
       "type": "table"
      }
     },
     "output_type": "display_data"
    }
   ],
   "source": [
    "display(df_staging_trips.limit(5))"
   ]
  },
  {
   "cell_type": "code",
   "execution_count": 0,
   "metadata": {
    "application/vnd.databricks.v1+cell": {
     "cellMetadata": {
      "byteLimit": 2048000,
      "rowLimit": 10000
     },
     "inputWidgets": {},
     "nuid": "8022b2ea-c680-4c52-8c58-846a2fc641c0",
     "showTitle": false,
     "title": ""
    }
   },
   "outputs": [],
   "source": [
    "fact_trips = spark.sql('SELECT * FROM staging_trips') \\\n",
    "                        .join(df_staging_riders,on='rider_id') \\\n",
    "                        .withColumn('duration', round((unix_timestamp(\"ended_at\") - unix_timestamp('start_at'))/60)) \\\n",
    "                        .withColumn('rider_age', round((unix_timestamp(\"account_start_date\") - unix_timestamp('birthday'))/3600/24)) \\\n",
    "                        .select(\"trip_id\", \"rider_id\", \"rideable_type\", \"start_station_id\", \"end_station_id\", \"start_at\", \"ended_at\", \"duration\", \"rider_age\")\n",
    "            "
   ]
  },
  {
   "cell_type": "code",
   "execution_count": 0,
   "metadata": {
    "application/vnd.databricks.v1+cell": {
     "cellMetadata": {
      "byteLimit": 2048000,
      "rowLimit": 10000
     },
     "inputWidgets": {},
     "nuid": "a8068b35-a3c2-4006-a68c-aa9b10f03da4",
     "showTitle": false,
     "title": ""
    }
   },
   "outputs": [],
   "source": [
    "spark.sql(\"DROP TABLE IF EXISTS fact_trips\")\n",
    "\n",
    "df_staging_trips.write.format(\"delta\").mode(\"overwrite\").saveAsTable(\"fact_trips\")"
   ]
  },
  {
   "cell_type": "code",
   "execution_count": 0,
   "metadata": {
    "application/vnd.databricks.v1+cell": {
     "cellMetadata": {
      "byteLimit": 2048000,
      "rowLimit": 10000
     },
     "inputWidgets": {},
     "nuid": "969ce24a-3de5-4507-8a71-93dd3c42c61c",
     "showTitle": false,
     "title": ""
    }
   },
   "outputs": [
    {
     "output_type": "display_data",
     "data": {
      "text/html": [
       "<style scoped>\n",
       "  .table-result-container {\n",
       "    max-height: 300px;\n",
       "    overflow: auto;\n",
       "  }\n",
       "  table, th, td {\n",
       "    border: 1px solid black;\n",
       "    border-collapse: collapse;\n",
       "  }\n",
       "  th, td {\n",
       "    padding: 5px;\n",
       "  }\n",
       "  th {\n",
       "    text-align: left;\n",
       "  }\n",
       "</style><div class='table-result-container'><table class='table-result'><thead style='background-color: white'><tr><th>trip_id</th><th>rideable_type</th><th>start_at</th><th>ended_at</th><th>start_station_id</th><th>end_station_id</th><th>rider_id</th></tr></thead><tbody><tr><td>F6F309843C09CAAC</td><td>classic_bike</td><td>2021-09-02T18:36:00Z</td><td>2021-09-02T18:48:43Z</td><td>TA1306000026</td><td>TA1307000041</td><td>70456</td></tr><tr><td>BD496FA19316E89C</td><td>classic_bike</td><td>2021-09-02T17:23:28Z</td><td>2021-09-02T17:32:43Z</td><td>TA1306000026</td><td>TA1309000019</td><td>24732</td></tr><tr><td>657E606A35206CC1</td><td>classic_bike</td><td>2021-09-05T23:13:43Z</td><td>2021-09-05T23:30:26Z</td><td>15642</td><td>TA1305000041</td><td>11875</td></tr><tr><td>B10DEEC4A5D90EB3</td><td>electric_bike</td><td>2021-09-09T18:26:00Z</td><td>2021-09-09T18:40:17Z</td><td>TA1307000001</td><td>TA1308000049</td><td>33064</td></tr><tr><td>268A00298A05078B</td><td>classic_bike</td><td>2021-09-06T18:49:27Z</td><td>2021-09-06T19:02:22Z</td><td>TA1306000026</td><td>TA1308000049</td><td>71976</td></tr></tbody></table></div>"
      ]
     },
     "metadata": {
      "application/vnd.databricks.v1+output": {
       "addedWidgets": {},
       "aggData": [],
       "aggError": "",
       "aggOverflow": false,
       "aggSchema": [],
       "aggSeriesLimitReached": false,
       "aggType": "",
       "arguments": {},
       "columnCustomDisplayInfos": {},
       "data": [
        [
         "F6F309843C09CAAC",
         "classic_bike",
         "2021-09-02T18:36:00Z",
         "2021-09-02T18:48:43Z",
         "TA1306000026",
         "TA1307000041",
         70456
        ],
        [
         "BD496FA19316E89C",
         "classic_bike",
         "2021-09-02T17:23:28Z",
         "2021-09-02T17:32:43Z",
         "TA1306000026",
         "TA1309000019",
         24732
        ],
        [
         "657E606A35206CC1",
         "classic_bike",
         "2021-09-05T23:13:43Z",
         "2021-09-05T23:30:26Z",
         "15642",
         "TA1305000041",
         11875
        ],
        [
         "B10DEEC4A5D90EB3",
         "electric_bike",
         "2021-09-09T18:26:00Z",
         "2021-09-09T18:40:17Z",
         "TA1307000001",
         "TA1308000049",
         33064
        ],
        [
         "268A00298A05078B",
         "classic_bike",
         "2021-09-06T18:49:27Z",
         "2021-09-06T19:02:22Z",
         "TA1306000026",
         "TA1308000049",
         71976
        ]
       ],
       "datasetInfos": [],
       "dbfsResultPath": null,
       "isJsonSchema": true,
       "metadata": {},
       "overflow": false,
       "plotOptions": {
        "customPlotOptions": {},
        "displayType": "table",
        "pivotAggregation": null,
        "pivotColumns": null,
        "xColumns": null,
        "yColumns": null
       },
       "removedWidgets": [],
       "schema": [
        {
         "metadata": "{}",
         "name": "trip_id",
         "type": "\"string\""
        },
        {
         "metadata": "{}",
         "name": "rideable_type",
         "type": "\"string\""
        },
        {
         "metadata": "{}",
         "name": "start_at",
         "type": "\"timestamp\""
        },
        {
         "metadata": "{}",
         "name": "ended_at",
         "type": "\"timestamp\""
        },
        {
         "metadata": "{}",
         "name": "start_station_id",
         "type": "\"string\""
        },
        {
         "metadata": "{}",
         "name": "end_station_id",
         "type": "\"string\""
        },
        {
         "metadata": "{}",
         "name": "rider_id",
         "type": "\"integer\""
        }
       ],
       "type": "table"
      }
     },
     "output_type": "display_data"
    }
   ],
   "source": [
    "fact_trips = spark.sql(\"SELECT * FROM fact_trips\")\n",
    "\n",
    "display(fact_trips.limit(5))"
   ]
  },
  {
   "cell_type": "markdown",
   "metadata": {
    "application/vnd.databricks.v1+cell": {
     "cellMetadata": {},
     "inputWidgets": {},
     "nuid": "74686f9d-299d-4cfd-8a9e-38e3ae502e75",
     "showTitle": false,
     "title": ""
    }
   },
   "source": [
    "\n",
    "# Dim Time"
   ]
  },
  {
   "cell_type": "code",
   "execution_count": 0,
   "metadata": {
    "application/vnd.databricks.v1+cell": {
     "cellMetadata": {
      "byteLimit": 2048000,
      "rowLimit": 10000
     },
     "inputWidgets": {},
     "nuid": "b21f3a61-9c3b-43eb-8d9b-8a998287af63",
     "showTitle": false,
     "title": ""
    }
   },
   "outputs": [],
   "source": [
    "min_date = df_staging_trips.selectExpr('MIN(start_at) AS started_at').first().asDict()['started_at']\n",
    "max_date = df_staging_trips.selectExpr('MAX(start_at) AS started_at').first().asDict()['started_at']\n",
    "\n",
    "expression = f\"sequence(to_date('{min_date}'), to_date('{max_date}'), interval 1 day)\"\n",
    "dim_times = spark.createDataFrame([(1,)], [\"time_id\"])\n",
    "\n",
    "dim_times = dim_times.withColumn(\"dateinit\", f.explode(f.expr(expression)))\n",
    "dim_times = dim_times.withColumn(\"date\", f.to_timestamp(dim_times.dateinit, \"yyyy-MM-dd\"))\n",
    "\n",
    "dim_times = dim_times \\\n",
    "            .withColumn(\"day_of_month\", f.dayofmonth(dim_times.date)) \\\n",
    "            .withColumn(\"day_of_week\", f.dayofweek(dim_times.date)) \\\n",
    "            .withColumn(\"year\", f.year(dim_times.date)) \\\n",
    "            .withColumn(\"month\", f.month(dim_times.date)) \\\n",
    "            .withColumn(\"quarter\", f.quarter(dim_times.date)) \\\n",
    "            .withColumn(\"week_of_year\", f.weekofyear(dim_times.date)) \\\n",
    "            .withColumn(\"time_id\", dim_times.date.cast(StringType())) \\\n",
    "            .drop(f.col(\"dateinit\"))"
   ]
  },
  {
   "cell_type": "code",
   "execution_count": 0,
   "metadata": {
    "application/vnd.databricks.v1+cell": {
     "cellMetadata": {
      "byteLimit": 2048000,
      "rowLimit": 10000
     },
     "inputWidgets": {},
     "nuid": "ed96d6e5-155b-4c7e-8308-9619766ee746",
     "showTitle": false,
     "title": ""
    }
   },
   "outputs": [],
   "source": [
    "spark.sql(\"DROP TABLE IF EXISTS dim_times\")\n",
    "\n",
    "dim_times.write.format(\"delta\").mode(\"overwrite\").saveAsTable(\"dim_times\")"
   ]
  },
  {
   "cell_type": "code",
   "execution_count": 0,
   "metadata": {
    "application/vnd.databricks.v1+cell": {
     "cellMetadata": {
      "byteLimit": 2048000,
      "rowLimit": 10000
     },
     "inputWidgets": {},
     "nuid": "1159d28e-4f22-4b50-9ef2-09b6cba7a3a3",
     "showTitle": false,
     "title": ""
    }
   },
   "outputs": [
    {
     "output_type": "display_data",
     "data": {
      "text/html": [
       "<style scoped>\n",
       "  .table-result-container {\n",
       "    max-height: 300px;\n",
       "    overflow: auto;\n",
       "  }\n",
       "  table, th, td {\n",
       "    border: 1px solid black;\n",
       "    border-collapse: collapse;\n",
       "  }\n",
       "  th, td {\n",
       "    padding: 5px;\n",
       "  }\n",
       "  th {\n",
       "    text-align: left;\n",
       "  }\n",
       "</style><div class='table-result-container'><table class='table-result'><thead style='background-color: white'><tr><th>time_id</th><th>date</th><th>day_of_month</th><th>day_of_week</th><th>year</th><th>month</th><th>quarter</th><th>week_of_year</th></tr></thead><tbody><tr><td>2021-02-01 00:00:00</td><td>2021-02-01T00:00:00Z</td><td>1</td><td>2</td><td>2021</td><td>2</td><td>1</td><td>5</td></tr><tr><td>2021-02-02 00:00:00</td><td>2021-02-02T00:00:00Z</td><td>2</td><td>3</td><td>2021</td><td>2</td><td>1</td><td>5</td></tr><tr><td>2021-02-03 00:00:00</td><td>2021-02-03T00:00:00Z</td><td>3</td><td>4</td><td>2021</td><td>2</td><td>1</td><td>5</td></tr><tr><td>2021-02-04 00:00:00</td><td>2021-02-04T00:00:00Z</td><td>4</td><td>5</td><td>2021</td><td>2</td><td>1</td><td>5</td></tr><tr><td>2021-02-05 00:00:00</td><td>2021-02-05T00:00:00Z</td><td>5</td><td>6</td><td>2021</td><td>2</td><td>1</td><td>5</td></tr></tbody></table></div>"
      ]
     },
     "metadata": {
      "application/vnd.databricks.v1+output": {
       "addedWidgets": {},
       "aggData": [],
       "aggError": "",
       "aggOverflow": false,
       "aggSchema": [],
       "aggSeriesLimitReached": false,
       "aggType": "",
       "arguments": {},
       "columnCustomDisplayInfos": {},
       "data": [
        [
         "2021-02-01 00:00:00",
         "2021-02-01T00:00:00Z",
         1,
         2,
         2021,
         2,
         1,
         5
        ],
        [
         "2021-02-02 00:00:00",
         "2021-02-02T00:00:00Z",
         2,
         3,
         2021,
         2,
         1,
         5
        ],
        [
         "2021-02-03 00:00:00",
         "2021-02-03T00:00:00Z",
         3,
         4,
         2021,
         2,
         1,
         5
        ],
        [
         "2021-02-04 00:00:00",
         "2021-02-04T00:00:00Z",
         4,
         5,
         2021,
         2,
         1,
         5
        ],
        [
         "2021-02-05 00:00:00",
         "2021-02-05T00:00:00Z",
         5,
         6,
         2021,
         2,
         1,
         5
        ]
       ],
       "datasetInfos": [],
       "dbfsResultPath": null,
       "isJsonSchema": true,
       "metadata": {},
       "overflow": false,
       "plotOptions": {
        "customPlotOptions": {},
        "displayType": "table",
        "pivotAggregation": null,
        "pivotColumns": null,
        "xColumns": null,
        "yColumns": null
       },
       "removedWidgets": [],
       "schema": [
        {
         "metadata": "{}",
         "name": "time_id",
         "type": "\"string\""
        },
        {
         "metadata": "{}",
         "name": "date",
         "type": "\"timestamp\""
        },
        {
         "metadata": "{}",
         "name": "day_of_month",
         "type": "\"integer\""
        },
        {
         "metadata": "{}",
         "name": "day_of_week",
         "type": "\"integer\""
        },
        {
         "metadata": "{}",
         "name": "year",
         "type": "\"integer\""
        },
        {
         "metadata": "{}",
         "name": "month",
         "type": "\"integer\""
        },
        {
         "metadata": "{}",
         "name": "quarter",
         "type": "\"integer\""
        },
        {
         "metadata": "{}",
         "name": "week_of_year",
         "type": "\"integer\""
        }
       ],
       "type": "table"
      }
     },
     "output_type": "display_data"
    }
   ],
   "source": [
    "dim_times = spark.sql(\"SELECT * FROM dim_times\")\n",
    "\n",
    "display(dim_times.limit(5))"
   ]
  }
 ],
 "metadata": {
  "application/vnd.databricks.v1+notebook": {
   "dashboards": [],
   "environmentMetadata": null,
   "language": "python",
   "notebookMetadata": {
    "pythonIndentUnit": 4
   },
   "notebookName": "Transform_to_Star_Schema",
   "widgets": {}
  }
 },
 "nbformat": 4,
 "nbformat_minor": 0
}
