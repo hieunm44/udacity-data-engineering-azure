{
 "cells": [
  {
   "metadata": {},
   "cell_type": "markdown",
   "source": "# Azure Databricks",
   "id": "16d4afef980413ad"
  },
  {
   "metadata": {},
   "cell_type": "markdown",
   "source": [
    "## 1. Create Spark Cluster\n",
    "1. Vào **Create a resource** -> **Analytics** -> **Azure Databricks** để tạo resource.\n",
    "\n",
    "2. Vào **Databricks** -> **Launch Workspace** -> **New** -> **Cluster** \\\n",
    "   Đặt tên cluster, **min** và **max workers** là `1` và `2` -> **Create compute**\n",
    "\n",
    "   <img src=\"images/azure1.png\" width=1500>\n",
    "\n",
    "2. Vào tab **Compute** để kiểm tra."
   ],
   "id": "8dd1535f33cb8ab0"
  },
  {
   "metadata": {},
   "cell_type": "markdown",
   "source": [
    "## 2. Reading and Writing Data\n",
    "1. Vào **Settings** -> **Advanced** -> Bật **DBFS File Browser**.\n",
    "\n",
    "   <img src=\"images/azure2.png\" width=1200>\n",
    "\n",
    "2. Vào **New** -> **Data** -> **DBFS** -> **Upload File** -> Up file `sparkify_log_small.json` lên.\n",
    "\n",
    "   <img src=\"images/azure3.png\" width=600>\n",
    "\n",
    "    Kiểm tra ở trong **Catalog** → **Browse DBFS**.\n",
    "\n",
    "    <img src=\"images/azure4.png\" width=1500>\n",
    "\n",
    "3. Vào **Workspace** -> **Shared** -> **Create** -> **Notebook**. Có thể đổi tên notebook và chọn cluster.\n",
    "\n",
    "   <img src=\"images/azure5.png\" width=1500>\n",
    "\n",
    "4. Vào **File** → **Import** -> Up file `Reading and Writing Data in Databricks.ipynb` lên.\n",
    "\n",
    "   <img src=\"images/azure6.png\" width=1500>"
   ],
   "id": "7fbc1bac05330d44"
  }
 ],
 "metadata": {
  "kernelspec": {
   "display_name": "Python 3",
   "language": "python",
   "name": "python3"
  },
  "language_info": {
   "codemirror_mode": {
    "name": "ipython",
    "version": 2
   },
   "file_extension": ".py",
   "mimetype": "text/x-python",
   "name": "python",
   "nbconvert_exporter": "python",
   "pygments_lexer": "ipython2",
   "version": "2.7.6"
  }
 },
 "nbformat": 4,
 "nbformat_minor": 5
}
