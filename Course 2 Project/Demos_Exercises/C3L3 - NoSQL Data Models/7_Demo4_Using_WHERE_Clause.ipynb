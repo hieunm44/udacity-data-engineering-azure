{
 "cells": [
  {
   "cell_type": "markdown",
   "metadata": {},
   "source": [
    "# Lesson 3 Demo 4: Using the WHERE Clause\n",
    "<img src=\"images/cassandralogo.png\" width=\"250\" height=\"250\">"
   ]
  },
  {
   "cell_type": "markdown",
   "metadata": {},
   "source": [
    "### In this demo we are going to walk through the basics of using the WHERE clause in Apache Cassandra."
   ]
  },
  {
   "cell_type": "markdown",
   "metadata": {},
   "source": [
    "#### We will use a python wrapper/ python driver called cassandra to run the Apache Cassandra queries. This library should be preinstalled but in the future to install this library you can run this command in a notebook to install locally: \n",
    "! pip install cassandra-driver\n",
    "#### More documentation can be found here:  https://datastax.github.io/python-driver/"
   ]
  },
  {
   "cell_type": "markdown",
   "metadata": {},
   "source": [
    "#### Import Apache Cassandra python package"
   ]
  },
  {
   "cell_type": "code",
   "metadata": {
    "ExecuteTime": {
     "end_time": "2025-06-29T19:21:22.526215Z",
     "start_time": "2025-06-29T19:21:22.519917Z"
    }
   },
   "source": [
    "import cassandra"
   ],
   "outputs": [],
   "execution_count": 1
  },
  {
   "cell_type": "markdown",
   "metadata": {},
   "source": [
    "### First let's create a connection to the database"
   ]
  },
  {
   "cell_type": "code",
   "metadata": {
    "ExecuteTime": {
     "end_time": "2025-06-29T19:21:23.812447Z",
     "start_time": "2025-06-29T19:21:23.614659Z"
    }
   },
   "source": [
    "from cassandra.cluster import Cluster\n",
    "try: \n",
    "    cluster = Cluster(['127.0.0.1']) #If you have a locally installed Apache Cassandra instance\n",
    "    session = cluster.connect()\n",
    "except Exception as e:\n",
    "    print(e)"
   ],
   "outputs": [],
   "execution_count": 2
  },
  {
   "cell_type": "markdown",
   "metadata": {},
   "source": [
    "### Let's create a keyspace to do our work in "
   ]
  },
  {
   "cell_type": "code",
   "metadata": {
    "ExecuteTime": {
     "end_time": "2025-06-29T19:21:25.576848Z",
     "start_time": "2025-06-29T19:21:25.572326Z"
    }
   },
   "source": [
    "try:\n",
    "    session.execute(\"\"\"\n",
    "    CREATE KEYSPACE IF NOT EXISTS udacity \n",
    "    WITH REPLICATION = \n",
    "    { 'class' : 'SimpleStrategy', 'replication_factor' : 1 }\"\"\"\n",
    ")\n",
    "\n",
    "except Exception as e:\n",
    "    print(e)"
   ],
   "outputs": [],
   "execution_count": 3
  },
  {
   "cell_type": "markdown",
   "metadata": {},
   "source": [
    "#### Connect to our Keyspace. Compare this to how we had to create a new session in PostgreSQL.  "
   ]
  },
  {
   "cell_type": "code",
   "metadata": {
    "ExecuteTime": {
     "end_time": "2025-06-29T19:21:27.551673Z",
     "start_time": "2025-06-29T19:21:27.547671Z"
    }
   },
   "source": [
    "try:\n",
    "    session.set_keyspace('udacity')\n",
    "except Exception as e:\n",
    "    print(e)"
   ],
   "outputs": [],
   "execution_count": 4
  },
  {
   "cell_type": "markdown",
   "metadata": {},
   "source": [
    "### Let's imagine we would like to start creating a new Music Library of albums. \n",
    "### We want to ask 4 question of our data\n",
    "#### 1. Give me every album in my music library that was released in a given year\n",
    "`select * from music_library WHERE YEAR=1970`\n",
    "#### 2. Give me the album that is in my music library that was released in a given year by \"The Beatles\"\n",
    "`select * from music_library WHERE YEAR = 1970 AND ARTIST_NAME = \"The Beatles\"`\n",
    "#### 3. Give me all the albums released in a given year in a give location \n",
    "`select * from music_library WHERE YEAR = 1970 AND LOCATION = \"Liverpool\"`\n",
    "#### 4. Give me city that the albumn \"Let It Be\" was recorded\n",
    "`select city from music_library WHERE YEAR = \"1970\" AND ARTIST_NAME = \"The Beatles\" AND ALBUM_NAME=\"Let it Be\"`\n"
   ]
  },
  {
   "cell_type": "markdown",
   "metadata": {},
   "source": [
    "### Here is our Collection of Data\n",
    "<img src=\"images/table3.png\" width=\"650\" height=\"350\">"
   ]
  },
  {
   "cell_type": "markdown",
   "metadata": {},
   "source": [
    "### How should we model this data? What should be our Primary Key and Partition Key? Since our data is looking for the YEAR let's start with that. From there we will add clustering columns on Artist Name and Album Name.\n",
    "\n",
    "`Table Name: music_library\n",
    "column 1: Year\n",
    "column 2: Artist Name\n",
    "column 3: Album Name\n",
    "Column 4: City\n",
    "PRIMARY KEY(year, artist_name, album_name)`"
   ]
  },
  {
   "cell_type": "code",
   "metadata": {
    "ExecuteTime": {
     "end_time": "2025-06-29T19:21:57.811155Z",
     "start_time": "2025-06-29T19:21:57.510415Z"
    }
   },
   "source": [
    "query = \"CREATE TABLE IF NOT EXISTS music_library \"\n",
    "query = query + \"(year int, artist_name text, album_name text, city text, PRIMARY KEY (year, artist_name, album_name))\"\n",
    "try:\n",
    "    session.execute(query)\n",
    "except Exception as e:\n",
    "    print(e)"
   ],
   "outputs": [],
   "execution_count": 5
  },
  {
   "cell_type": "markdown",
   "metadata": {},
   "source": [
    "### Let's insert our data into of table"
   ]
  },
  {
   "cell_type": "code",
   "metadata": {
    "ExecuteTime": {
     "end_time": "2025-06-29T19:22:02.577777Z",
     "start_time": "2025-06-29T19:22:02.566274Z"
    }
   },
   "source": [
    "query = \"INSERT INTO music_library (year, artist_name, album_name, city)\"\n",
    "query = query + \" VALUES (%s, %s, %s, %s)\"\n",
    "\n",
    "try:\n",
    "    session.execute(query, (1970, \"The Beatles\", \"Let it Be\", \"Liverpool\"))\n",
    "except Exception as e:\n",
    "    print(e)\n",
    "    \n",
    "try:\n",
    "    session.execute(query, (1965, \"The Beatles\", \"Rubber Soul\", \"Oxford\"))\n",
    "except Exception as e:\n",
    "    print(e)\n",
    "    \n",
    "try:\n",
    "    session.execute(query, (1965, \"The Who\", \"My Generation\", \"London\"))\n",
    "except Exception as e:\n",
    "    print(e)\n",
    "\n",
    "try:\n",
    "    session.execute(query, (1966, \"The Monkees\", \"The Monkees\", \"Los Angeles\"))\n",
    "except Exception as e:\n",
    "    print(e)\n",
    "\n",
    "try:\n",
    "    session.execute(query, (1970, \"The Carpenters\", \"Close To You\", \"San Diego\"))\n",
    "except Exception as e:\n",
    "    print(e)"
   ],
   "outputs": [],
   "execution_count": 6
  },
  {
   "cell_type": "markdown",
   "metadata": {},
   "source": [
    "### Let's Validate our Data Model with our 4 queries.\n",
    "\n",
    "`select * from music_library WHERE YEAR=1970`"
   ]
  },
  {
   "cell_type": "code",
   "metadata": {
    "ExecuteTime": {
     "end_time": "2025-06-29T19:22:05.317530Z",
     "start_time": "2025-06-29T19:22:05.311498Z"
    }
   },
   "source": [
    "query = \"select * from music_library WHERE YEAR=1970\"\n",
    "try:\n",
    "    rows = session.execute(query)\n",
    "except Exception as e:\n",
    "    print(e)\n",
    "    \n",
    "for row in rows:\n",
    "    print (row.year, row.artist_name, row.album_name, row.city)"
   ],
   "outputs": [
    {
     "name": "stdout",
     "output_type": "stream",
     "text": [
      "1970 The Beatles Let it Be Liverpool\n",
      "1970 The Carpenters Close To You San Diego\n"
     ]
    }
   ],
   "execution_count": 7
  },
  {
   "cell_type": "markdown",
   "metadata": {},
   "source": [
    "### Success it worked! Let's try the 2nd query."
   ]
  },
  {
   "cell_type": "markdown",
   "metadata": {},
   "source": [
    "`select * from music_library WHERE YEAR = 1970 AND ARTIST_NAME = \"The Beatles\"`"
   ]
  },
  {
   "cell_type": "code",
   "metadata": {
    "ExecuteTime": {
     "end_time": "2025-06-29T19:22:19.999798Z",
     "start_time": "2025-06-29T19:22:19.993778Z"
    }
   },
   "source": [
    "query = \"select * from music_library WHERE YEAR=1970 AND ARTIST_NAME = 'The Beatles'\"\n",
    "try:\n",
    "    rows = session.execute(query)\n",
    "except Exception as e:\n",
    "    print(e)\n",
    "    \n",
    "for row in rows:\n",
    "    print (row.year, row.artist_name, row.album_name, row.city)"
   ],
   "outputs": [
    {
     "name": "stdout",
     "output_type": "stream",
     "text": [
      "1970 The Beatles Let it Be Liverpool\n"
     ]
    }
   ],
   "execution_count": 8
  },
  {
   "cell_type": "markdown",
   "metadata": {},
   "source": [
    "### Success it worked! Let's try the 3rd query.\n",
    "`select * from music_library WHERE YEAR = 1970 AND LOCATION = \"Liverpool\"`"
   ]
  },
  {
   "cell_type": "code",
   "metadata": {
    "ExecuteTime": {
     "end_time": "2025-06-29T19:22:24.516758Z",
     "start_time": "2025-06-29T19:22:24.509124Z"
    }
   },
   "source": [
    "query = \"select * from music_library WHERE YEAR = 1970 AND LOCATION = 'Liverpool'\"\n",
    "try:\n",
    "    rows = session.execute(query)\n",
    "except Exception as e:\n",
    "    print(e)\n",
    "    \n",
    "for row in rows:\n",
    "    print (row.year, row.artist_name, row.album_name, row.city)"
   ],
   "outputs": [
    {
     "name": "stdout",
     "output_type": "stream",
     "text": [
      "Error from server: code=2200 [Invalid query] message=\"Undefined column name location in table udacity.music_library\"\n"
     ]
    }
   ],
   "execution_count": 9
  },
  {
   "cell_type": "markdown",
   "metadata": {},
   "source": [
    "### Error! You can not try to access a column or a clustering column if you have not used the other defined clustering column. Let's see if we can try it a different way. \n",
    "`select city from music_library WHERE YEAR = \"1970\" AND ARTIST_NAME = \"The Beatles\" AND ALBUM_NAME=\"Let it Be\"`\n"
   ]
  },
  {
   "cell_type": "code",
   "metadata": {
    "ExecuteTime": {
     "end_time": "2025-06-29T19:22:57.480080Z",
     "start_time": "2025-06-29T19:22:57.473772Z"
    }
   },
   "source": [
    "query = \"select city from music_library WHERE YEAR = 1970 AND ARTIST_NAME = 'The Beatles' AND ALBUM_NAME='Let it Be'\"\n",
    "try:\n",
    "    rows = session.execute(query)\n",
    "except Exception as e:\n",
    "    print(e)\n",
    "    \n",
    "for row in rows:\n",
    "    print (row.city)"
   ],
   "outputs": [
    {
     "name": "stdout",
     "output_type": "stream",
     "text": [
      "Liverpool\n"
     ]
    }
   ],
   "execution_count": 10
  },
  {
   "cell_type": "markdown",
   "metadata": {},
   "source": [
    "### For the sake of the demo, I will drop the table. "
   ]
  },
  {
   "cell_type": "code",
   "metadata": {
    "ExecuteTime": {
     "end_time": "2025-06-29T19:23:32.236206Z",
     "start_time": "2025-06-29T19:23:31.011967Z"
    }
   },
   "source": [
    "query = \"drop table music_library\"\n",
    "try:\n",
    "    rows = session.execute(query)\n",
    "except Exception as e:\n",
    "    print(e)\n",
    "\n",
    "query = \"drop table music_library1\"\n",
    "try:\n",
    "    rows = session.execute(query)\n",
    "except Exception as e:\n",
    "    print(e)"
   ],
   "outputs": [
    {
     "name": "stdout",
     "output_type": "stream",
     "text": [
      "Error from server: code=2200 [Invalid query] message=\"Table 'udacity.music_library1' doesn't exist\"\n"
     ]
    }
   ],
   "execution_count": 11
  },
  {
   "cell_type": "markdown",
   "metadata": {},
   "source": [
    "### And Finally close the session and cluster connection"
   ]
  },
  {
   "cell_type": "code",
   "metadata": {
    "ExecuteTime": {
     "end_time": "2025-06-29T19:23:33.127390Z",
     "start_time": "2025-06-29T19:23:33.056390Z"
    }
   },
   "source": [
    "session.shutdown()\n",
    "cluster.shutdown()"
   ],
   "outputs": [],
   "execution_count": 12
  }
 ],
 "metadata": {
  "kernelspec": {
   "display_name": "Python 3",
   "language": "python",
   "name": "python3"
  },
  "language_info": {
   "codemirror_mode": {
    "name": "ipython",
    "version": 3
   },
   "file_extension": ".py",
   "mimetype": "text/x-python",
   "name": "python",
   "nbconvert_exporter": "python",
   "pygments_lexer": "ipython3",
   "version": "3.7.0"
  }
 },
 "nbformat": 4,
 "nbformat_minor": 2
}
