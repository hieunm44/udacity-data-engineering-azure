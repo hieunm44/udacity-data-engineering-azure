{
 "cells": [
  {
   "cell_type": "markdown",
   "metadata": {
    "editable": true
   },
   "source": [
    "# Lesson 1 Demo 2: Creating a Table with Apache Cassandra\n",
    "<img src=\"images/cassandralogo.png\" width=\"250\" height=\"250\">"
   ]
  },
  {
   "cell_type": "markdown",
   "metadata": {
    "editable": true
   },
   "source": [
    "## Walk through the basics of Apache Cassandra:<br><li>Creating a table <li>Inserting rows of data<li>Running a simple SQL query to validate the information. "
   ]
  },
  {
   "cell_type": "markdown",
   "metadata": {
    "editable": true
   },
   "source": [
    "### Use a python wrapper/ python driver called cassandra to run the Apache Cassandra queries. This library should be preinstalled but in the future to install this library you can run this command in a notebook to install locally: \n",
    "`! pip install cassandra-driver`<br>\n",
    "More documentation can be found here:  https://datastax.github.io/python-driver/"
   ]
  },
  {
   "metadata": {},
   "cell_type": "markdown",
   "source": [
    "Cài Cassandra:\n",
    "1. `sudo apt install openjdk-11-jdk`\n",
    "2. https://cassandra.apache.org/doc/4.1/cassandra/getting_started/installing.html, làm theo Installing the RPM packages"
   ]
  },
  {
   "cell_type": "markdown",
   "metadata": {
    "editable": true
   },
   "source": [
    "### Import Apache Cassandra python package"
   ]
  },
  {
   "cell_type": "code",
   "metadata": {
    "editable": true,
    "ExecuteTime": {
     "end_time": "2025-06-28T21:38:58.238658Z",
     "start_time": "2025-06-28T21:38:58.231861Z"
    }
   },
   "source": [
    "import cassandra"
   ],
   "outputs": [],
   "execution_count": 1
  },
  {
   "cell_type": "markdown",
   "metadata": {
    "editable": true
   },
   "source": [
    "### Create a connection to the database\n",
    "1. Connect to the local instance of Apache Cassandra *['127.0.0.1']*.\n",
    "2. The connection reaches out to the database (*studentdb*) and uses the correct privileges to connect to the database (*user and password = student*).\n",
    "3. Once we get back the cluster object, we need to connect and that will create our session that we will use to execute queries.<BR><BR>\n",
    "    \n",
    "*Note 1:* This block of code will be standard in all notebooks"
   ]
  },
  {
   "cell_type": "code",
   "metadata": {
    "editable": true,
    "ExecuteTime": {
     "end_time": "2025-06-28T21:39:00.201080Z",
     "start_time": "2025-06-28T21:38:59.932596Z"
    }
   },
   "source": [
    "from cassandra.cluster import Cluster\n",
    "try: \n",
    "    cluster = Cluster(['127.0.0.1']) #If you have a locally installed Apache Cassandra instance\n",
    "    session = cluster.connect()\n",
    "except Exception as e:\n",
    "    print(e)"
   ],
   "outputs": [],
   "execution_count": 2
  },
  {
   "cell_type": "markdown",
   "metadata": {
    "editable": true
   },
   "source": [
    "### Test the Connection and Error Handling Code\n",
    "*Note:* The try-except block should handle the error: We are trying to do a select * on a table but the table has not been created yet."
   ]
  },
  {
   "cell_type": "code",
   "metadata": {
    "editable": true,
    "ExecuteTime": {
     "end_time": "2025-06-28T21:39:02.242451Z",
     "start_time": "2025-06-28T21:39:02.233679Z"
    }
   },
   "source": [
    "try: \n",
    "    session.execute(\"\"\"select * from music_libary\"\"\")\n",
    "except Exception as e:\n",
    "    print(e)\n",
    " "
   ],
   "outputs": [
    {
     "name": "stdout",
     "output_type": "stream",
     "text": [
      "Error from server: code=2200 [Invalid query] message=\"No keyspace has been specified. USE a keyspace, or explicitly specify keyspace.tablename\"\n"
     ]
    }
   ],
   "execution_count": 3
  },
  {
   "cell_type": "markdown",
   "metadata": {
    "editable": true
   },
   "source": [
    "### Create a keyspace to the work in \n",
    "*Note:* We will ignore the Replication Strategy and factor information right now as those concepts are covered in depth in Lesson 3. Remember, this will be the strategy and replication factor on a one node local instance. "
   ]
  },
  {
   "cell_type": "code",
   "metadata": {
    "editable": true,
    "ExecuteTime": {
     "end_time": "2025-06-28T21:39:03.981180Z",
     "start_time": "2025-06-28T21:39:03.974428Z"
    }
   },
   "source": [
    "try:\n",
    "    session.execute(\"\"\"\n",
    "    CREATE KEYSPACE IF NOT EXISTS udacity \n",
    "    WITH REPLICATION = \n",
    "    { 'class' : 'SimpleStrategy', 'replication_factor' : 1 }\"\"\"\n",
    ")\n",
    "\n",
    "except Exception as e:\n",
    "    print(e)"
   ],
   "outputs": [],
   "execution_count": 4
  },
  {
   "cell_type": "markdown",
   "metadata": {
    "editable": true
   },
   "source": [
    "### Connect to our Keyspace.<br>\n",
    "*Compare this to how a new session in PostgreSQL is created.*"
   ]
  },
  {
   "cell_type": "code",
   "metadata": {
    "editable": true,
    "ExecuteTime": {
     "end_time": "2025-06-28T21:39:06.403896Z",
     "start_time": "2025-06-28T21:39:06.398097Z"
    }
   },
   "source": [
    "try:\n",
    "    session.set_keyspace('udacity')\n",
    "except Exception as e:\n",
    "    print(e)"
   ],
   "outputs": [],
   "execution_count": 5
  },
  {
   "cell_type": "markdown",
   "metadata": {
    "editable": true
   },
   "source": [
    "### Begin with creating a Music Library of albums. Each album has a lot of information we could add to the music library table. We will  start with album name, artist name, year. "
   ]
  },
  {
   "cell_type": "markdown",
   "metadata": {
    "editable": true
   },
   "source": [
    "### But ...\n",
    "<img src=\"images/stop.jpeg\" width=\"250\" height=\"250\">\n",
    "\n",
    "### We are working with Apache Cassandra a NoSQL database. We can't model our data and create our table without more information.\n",
    "\n",
    "### What queries will I be performing on this data?"
   ]
  },
  {
   "cell_type": "markdown",
   "metadata": {
    "editable": true
   },
   "source": [
    "#### We want to be able to get every album that was released in a particular year. \n",
    "`select * from music_library WHERE YEAR=1970`\n",
    "\n",
    "*To do that:* <ol><li> We need to be able to do a WHERE on YEAR. <li>YEAR will become my partition key,<li>artist name will be my clustering column to make each Primary Key unique. <li>**Remember there are no duplicates in Apache Cassandra.**</ol>\n",
    "\n",
    "**Table Name:** music_library<br>\n",
    "**column 1:** Album Name<br>\n",
    "**column 2:** Artist Name<br>\n",
    "**column 3:** Year <br>\n",
    "PRIMARY KEY(year, artist name)\n",
    "\n",
    "\n",
    "### Now to translate this information into a Create Table Statement. \n",
    "More information on Data Types can be found here: https://datastax.github.io/python-driver/<br>\n",
    "*Note:* We will go in depth with these concepts in Lesson 3."
   ]
  },
  {
   "cell_type": "code",
   "metadata": {
    "editable": true,
    "ExecuteTime": {
     "end_time": "2025-06-28T21:43:04.469473Z",
     "start_time": "2025-06-28T21:43:03.306053Z"
    }
   },
   "source": [
    "query = \"CREATE TABLE IF NOT EXISTS music_library \"\n",
    "query = query + \"(year int, artist_name text, album_name text, PRIMARY KEY (year, artist_name))\"\n",
    "try:\n",
    "    session.execute(query)\n",
    "except Exception as e:\n",
    "    print(e)"
   ],
   "outputs": [],
   "execution_count": 6
  },
  {
   "cell_type": "markdown",
   "metadata": {
    "editable": true
   },
   "source": [
    "The query should run smoothly."
   ]
  },
  {
   "cell_type": "markdown",
   "metadata": {
    "editable": true
   },
   "source": [
    "### Insert two rows "
   ]
  },
  {
   "cell_type": "code",
   "metadata": {
    "editable": true,
    "ExecuteTime": {
     "end_time": "2025-06-28T21:43:32.010574Z",
     "start_time": "2025-06-28T21:43:31.988914Z"
    }
   },
   "source": [
    "query = \"INSERT INTO music_library (year, artist_name, album_name)\"\n",
    "query = query + \" VALUES (%s, %s, %s)\"\n",
    "\n",
    "try:\n",
    "    session.execute(query, (1970, \"The Beatles\", \"Let it Be\"))\n",
    "except Exception as e:\n",
    "    print(e)\n",
    "    \n",
    "try:\n",
    "    session.execute(query, (1965, \"The Beatles\", \"Rubber Soul\"))\n",
    "except Exception as e:\n",
    "    print(e)"
   ],
   "outputs": [],
   "execution_count": 7
  },
  {
   "cell_type": "markdown",
   "metadata": {
    "editable": true
   },
   "source": [
    "### Validate your data was inserted into the table.\n",
    "*Note:* The for loop is used for printing the results. If executing queries in the cqlsh, this would not be required.\n",
    "\n",
    "*Note:* Depending on the version of Apache Cassandra you have installed, this might through an \"ALLOW FILTERING\" error instead of print the 2 rows we just inserted. This is to be expected, as this type of query should not be preformed on large datasets, we are only doing this for the sake of the demo."
   ]
  },
  {
   "cell_type": "code",
   "metadata": {
    "editable": true,
    "scrolled": true,
    "ExecuteTime": {
     "end_time": "2025-06-28T21:44:57.798971Z",
     "start_time": "2025-06-28T21:44:57.789371Z"
    }
   },
   "source": [
    "query = 'SELECT * FROM music_library'\n",
    "try:\n",
    "    rows = session.execute(query)\n",
    "except Exception as e:\n",
    "    print(e)\n",
    "    \n",
    "for row in rows:\n",
    "    print (row.year, row.album_name, row.artist_name)"
   ],
   "outputs": [
    {
     "name": "stdout",
     "output_type": "stream",
     "text": [
      "1965 Rubber Soul The Beatles\n",
      "1970 Let it Be The Beatles\n"
     ]
    }
   ],
   "execution_count": 10
  },
  {
   "cell_type": "markdown",
   "metadata": {
    "editable": true
   },
   "source": [
    "### Validate the Data Model with the original query.\n",
    "\n",
    "`select * from music_library WHERE YEAR=1970`"
   ]
  },
  {
   "cell_type": "code",
   "metadata": {
    "editable": true,
    "ExecuteTime": {
     "end_time": "2025-06-28T21:45:14.594216Z",
     "start_time": "2025-06-28T21:45:14.586065Z"
    }
   },
   "source": [
    "query = \"select * from music_library WHERE YEAR=1970\"\n",
    "try:\n",
    "    rows = session.execute(query)\n",
    "except Exception as e:\n",
    "    print(e)\n",
    "    \n",
    "for row in rows:\n",
    "    print (row.year, row.album_name, row.artist_name)"
   ],
   "outputs": [
    {
     "name": "stdout",
     "output_type": "stream",
     "text": [
      "1970 Let it Be The Beatles\n"
     ]
    }
   ],
   "execution_count": 11
  },
  {
   "cell_type": "markdown",
   "metadata": {
    "editable": true
   },
   "source": [
    "### Drop the table to avoid duplicates and clean up. "
   ]
  },
  {
   "cell_type": "code",
   "metadata": {
    "editable": true,
    "ExecuteTime": {
     "end_time": "2025-06-28T21:45:29.028752Z",
     "start_time": "2025-06-28T21:45:28.049396Z"
    }
   },
   "source": [
    "query = \"drop table music_library\"\n",
    "try:\n",
    "    rows = session.execute(query)\n",
    "except Exception as e:\n",
    "    print(e)\n",
    "    "
   ],
   "outputs": [],
   "execution_count": 12
  },
  {
   "cell_type": "markdown",
   "metadata": {
    "editable": true
   },
   "source": [
    "### Close the session and cluster connection"
   ]
  },
  {
   "cell_type": "code",
   "execution_count": null,
   "metadata": {
    "editable": true
   },
   "outputs": [],
   "source": [
    "session.shutdown()\n",
    "cluster.shutdown()"
   ]
  },
  {
   "cell_type": "code",
   "execution_count": null,
   "metadata": {
    "editable": true
   },
   "outputs": [],
   "source": []
  }
 ],
 "metadata": {
  "kernelspec": {
   "display_name": "Python 3",
   "language": "python",
   "name": "python3"
  },
  "language_info": {
   "codemirror_mode": {
    "name": "ipython",
    "version": 3
   },
   "file_extension": ".py",
   "mimetype": "text/x-python",
   "name": "python",
   "nbconvert_exporter": "python",
   "pygments_lexer": "ipython3",
   "version": "3.6.3"
  }
 },
 "nbformat": 4,
 "nbformat_minor": 4
}
