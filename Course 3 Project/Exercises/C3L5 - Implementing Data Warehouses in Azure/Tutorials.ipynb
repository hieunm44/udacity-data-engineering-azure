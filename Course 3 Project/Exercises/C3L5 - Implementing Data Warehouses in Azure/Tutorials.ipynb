{
 "cells": [
  {
   "metadata": {},
   "cell_type": "markdown",
   "source": "# Data Warehouse on Azure",
   "id": "6538a3ddd4d2ba06"
  },
  {
   "metadata": {},
   "cell_type": "markdown",
   "source": [
    "##  1. Azure Synapse Workspace\n",
    "1. Vào **Create a resource** -> **Analytics** -> **Azure Synapse Analytics**. Chọn **Resource group** có sẵn. \\\n",
    "   Thêm **Workspace name**, **Account name** và **File system name**. Còn lại để nguyên -> **Next**\n",
    "\n",
    "   <img src=\"images/azure1.png\" width=700>\n",
    "\n",
    "2. Điền **SQL Password**, còn lại để nguyên -> **Next** cho đến **Review + create** -> **Create**\n",
    "\n",
    "   <img src=\"images/azure2.png\" width=700>\n",
    "\n",
    "3. Vào workspace vừa tạo -> **Open Synapse Studio**\n",
    "\n",
    "   <img src=\"images/azure3.png\" width=1500>"
   ],
   "id": "532cca3f6a077482"
  },
  {
   "metadata": {},
   "cell_type": "markdown",
   "source": [
    "## 2. Azure PostgreSQl\n",
    "1. Vào **Create a resource** -> **Databases** -> **Azure Database for PostgreSQL**. \\\n",
    "   Ấn **Configure server** -> Chọn Compute rẻ nhất -> Thiết lập Authenication, còn lại để nguyên -> **Review + create** -> **Create**\n",
    "\n",
    "   <img src=\"images/azure4.png\" width=800>\n",
    "\n",
    "2. Vào Server vừa tạo -> **Settings** -> **Networking** -> Tick \"Allow public access from any azure ...\" \\\n",
    "   Trong Firewall rules, ấn \"+ Add 0.0.0.0 - 255.255.255.255\" -> **Save**\n",
    "\n",
    "   <img src=\"images/azure5.png\" width=1500>\n",
    "\n",
    "3. Tải data: https://video.udacity-data.com/topher/2022/March/622a5fc6_azure-data-warehouse-projectdatafiles/azure-data-warehouse-projectdatafiles.zip \\\n",
    "   Extract ra -> Copy các files vào folder `data` (Đây cũng là data ở Course 3 Project)\n",
    "\n",
    "4. Mở file `ProjectDataToPostgres.py` -> Điền host, user, password -> Chạy file này\n",
    "\n",
    "5. Dùng 1 DBMS Tool (VD DataGrip, pgAdmin4) để kiểm tra các tables trong DB."
   ],
   "id": "334668b864eff0fc"
  },
  {
   "metadata": {},
   "cell_type": "markdown",
   "source": [
    "## 3. Ingesting Data into Azure Synapse\n",
    "1. Vào **Synapse Studio** -> **Manage** -> **Linked services** -> **New** -> **Azure** -> **Azure Database for PostgreSQL** -> **Continue**\n",
    "\n",
    "   <img src=\"images/azure6.png\" width=1500>\n",
    "\n",
    "2. Chọn **Azure subscription** có sẵn, chọn **Server name** đã tạo, chọn **Database name** là `udacityproject`, điền **User name** và **Password**. \\\n",
    "   Chọn **Encrytion method** là `RequestSSL`, chọn **Not validate server certificate** -> **Test conection** -> **Create**\n",
    "\n",
    "   <img src=\"images/azure7.png\" width=1500>\n",
    "\n",
    "3. Tạo một Linked service nữa tới **Azure Blob Storage**. Chọn **Azure subscription** và **Storage account name** có sẵn -> **Test connection** -> **Create**.\n",
    "\n",
    "   <img src=\"images/azure8.png\" width=1500>\n",
    "\n",
    "4. Ta muốn ingest data từ `AzurePostgreSql1` vào `AzureBlobStorage1`. Vào **Home** -> **Ingest** \\\n",
    "   Trong **Properties**, chọn **Run once now** -> **Next** \\\n",
    "   Trong **Source**, chọn **Source type** là **Azure Database for PostgreSQL**, **Connection** là link vừa tạo. Tick `public.payment` -> **Next**\n",
    "\n",
    "   <img src=\"images/azure9.png\" width=1000>\n",
    "\n",
    "5. Có thể xem **Preview data** -> **Next** \\\n",
    "   Trong **Destination**, chọn **Destination type** là **Azure Blob Storage**, **Connection là link** vừa tạo. Chọn **Folder path** và điền **File name** là`publicpaymentimport.csv` -> **Next**\n",
    "\n",
    "   <img src=\"images/azure10.png\" width=800>\n",
    "\n",
    "6. Trong **File format settings**, để nguyên ->  **Next** cho đến **Review and finish** -> **Finish** \\\n",
    "   Vào **Data** -> **Linked** -> **Azure Blob Storage** để kiểm tra data đã ingest (nếu chưa thấy thì F5).\n",
    "\n",
    "   <img src=\"images/azure11.png\" width=1500>"
   ],
   "id": "66599b74d0d935db"
  },
  {
   "metadata": {},
   "cell_type": "markdown",
   "source": [
    "## 3. Creating Staging Tables using Azure Synapse\n",
    "0. (Optional) Vào Synapse Workspace -> Security -> Networking -> Tick \"Allow Azure services and resources to access this workspace\" \\\n",
    "   Vào **Synapse Studio** -> **Manage** -> **SQL pools** -> **New** để tạo 1 Dedicated SQL pool, có thể dùng thay cho Built-in pool ở các bước sau. \\\n",
    "   Bắt buộc làm bước này nếu muốn tạo Linked Service từ ADF tới Synapse DB (Ở C5L2).\n",
    "\n",
    "1. Vào **Synapse Studio** -> **Data** -> **Linked** -> **Azure Data Lake Storage Gen2** -> Chọn file như dưới.\n",
    "\n",
    "   <img src=\"images/azure12.png\" width=1500>\n",
    "\n",
    "2. Ấn **New SQL script** -> **Create external table** -> Để nguyên -> **Continue** -> Chọn **SQL pool**, **database**, đặt **External table name** là `staging_payment` -> **Open script** \\\n",
    "   Sửa code phần `CREATE EXTERNAL TABLE` là:\n",
    "   ```sql\n",
    "   CREATE EXTERNAL TABLE dbo.staging_payment (\n",
    "       [PaymentId] bigint,\n",
    "       [PaymentDate] varchar(50),\n",
    "       [Amount] float,\n",
    "       [AccountNumber] bigint\n",
    "       )\n",
    "       WITH (\n",
    "       LOCATION = 'publicpaymentimport.csv',\n",
    "       DATA_SOURCE = [hieufilesystem43_hieuaccount43_dfs_core_windows_net],\n",
    "       FILE_FORMAT = [SynapseDelimitedTextFormat]\n",
    "       )\n",
    "   GO\n",
    "   ```\n",
    "   Ấn **Run**\n",
    "\n",
    "   <img src=\"images/azure13.png\" width=1500>\n",
    "\n",
    "   (Chú ý: Nêu chạy có error và muốn chạy lại thì trước tiên phải drop external table đã tạo. Ấn vào dấu $\\vdots$ cạnh table -> **New SQL script** -> **DROP** -> **Run**)\n",
    "\n",
    "3. Kiểm tra KQ trong **Data** -> **Workspace** -> **SQL database**\n",
    "\n",
    "   <img src=\"images/azure14.png\" width=400>"
   ],
   "id": "5e4273572d360cb4"
  }
 ],
 "metadata": {
  "kernelspec": {
   "display_name": "Python 3",
   "language": "python",
   "name": "python3"
  },
  "language_info": {
   "codemirror_mode": {
    "name": "ipython",
    "version": 2
   },
   "file_extension": ".py",
   "mimetype": "text/x-python",
   "name": "python",
   "nbconvert_exporter": "python",
   "pygments_lexer": "ipython2",
   "version": "2.7.6"
  }
 },
 "nbformat": 4,
 "nbformat_minor": 5
}
